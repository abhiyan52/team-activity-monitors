{
 "cells": [
  {
   "cell_type": "code",
   "execution_count": 1,
   "id": "87afdf4e-8aa5-44cd-bff9-8b7bded59e9a",
   "metadata": {},
   "outputs": [
    {
     "name": "stdout",
     "output_type": "stream",
     "text": [
      "\n",
      "\n",
      "\u001b[1m> Entering new AgentExecutor chain...\u001b[0m\n",
      "\u001b[32;1m\u001b[1;3m```json\n",
      "{\n",
      "  \"is_relevant\": true,\n",
      "  \"agent_intent\": {\n",
      "    \"intent\": \"Find current tasks and activities for Abhiyan Timilsina across JIRA and GitHub.\",\n",
      "    \"operations\": [\n",
      "      {\n",
      "        \"tool\": \"search_jira_users\",\n",
      "        \"action\": \"Search for JIRA users matching 'Abhiyan Timilsina'\",\n",
      "        \"filters\": {\n",
      "          \"query\": \"abhiyan timilsina\",\n",
      "          \"max_results\": 10\n",
      "        },\n",
      "        \"output_keys\": [\"jira_user_key\", \"jira_username\", \"jira_display_name\"]\n",
      "      },\n",
      "      {\n",
      "        \"tool\": \"search_jira_issues\",\n",
      "        \"action\": \"Find JIRA issues assigned to Abhiyan\",\n",
      "        \"filters\": {\n",
      "          \"assignee\": \"jira_username\",\n",
      "          \"status\": \"Open\",\n",
      "          \"max_results\": 10\n",
      "        },\n",
      "        \"output_keys\": [\"issue_key\", \"summary\", \"status\", \"project_key\"]\n",
      "      },\n",
      "      {\n",
      "        \"tool\": \"get_github_recent_activities\",\n",
      "        \"action\": \"Get Abhiyan's recent GitHub activities\",\n",
      "        \"filters\": {\n",
      "          \"usernames\": [\"abhiyan-timilsina\", \"abhiyantimilsina\", \"atimilsina\", \"abhiyan\"],\n",
      "          \"days\": 7,\n",
      "          \"include_commits\": true,\n",
      "          \"include_prs\": true\n",
      "        },\n",
      "        \"output_keys\": [\"username\", \"activity_type\", \"repository\", \"date\"]\n",
      "      }\n",
      "    ],\n",
      "    \"members\": [\"abhiyan timilsina\", \"abhiyan.timilsina\", \"abhiyantimilsina\", \"abhiyan-timilsina\", \"atimilsina\"],\n",
      "    \"projects\": [],\n",
      "    \"repositories\": [],\n",
      "    \"time_range\": {\n",
      "      \"start\": null,\n",
      "      \"end\": null,\n",
      "      \"label\": \"Current\"\n",
      "    },\n",
      "    \"context\": {\n",
      "      \"user_matching\": \"Multiple variations of Abhiyan's name are used across JIRA and GitHub. Partial name searches are performed to increase the chance of finding the correct user.\",\n",
      "      \"project_mapping\": \"Projects will be identified from JIRA issues and GitHub repositories based on the context of Abhiyan's activities.\",\n",
      "      \"notes\": \"The 'current' time range is implicitly defined as the last 7 days for GitHub activities. For JIRA, the 'Open' status filter is used to indicate current tasks.\"\n",
      "    }\n",
      "  },\n",
      "  \"error\": null\n",
      "}\n",
      "```\n",
      "\u001b[0m\n",
      "\n",
      "\u001b[1m> Finished chain.\u001b[0m\n",
      "members=['abhiyan timilsina', 'abhiyan.timilsina', 'abhiyantimilsina', 'abhiyan-timilsina', 'atimilsina'] projects=[] repositories=[] organizations=None operations=[OperationStep(tool='search_jira_users', action=\"Search for JIRA users matching 'Abhiyan Timilsina'\", filters={'query': 'abhiyan timilsina', 'max_results': 10}, sort_by=None, order=None, output_keys=['jira_user_key', 'jira_username', 'jira_display_name'], aggregation=None), OperationStep(tool='search_jira_issues', action='Find JIRA issues assigned to Abhiyan', filters={'assignee': 'jira_username', 'status': 'Open', 'max_results': 10}, sort_by=None, order=None, output_keys=['issue_key', 'summary', 'status', 'project_key'], aggregation=None), OperationStep(tool='get_github_recent_activities', action=\"Get Abhiyan's recent GitHub activities\", filters={'usernames': ['abhiyan-timilsina', 'abhiyantimilsina', 'atimilsina', 'abhiyan'], 'days': 7, 'include_commits': True, 'include_prs': True}, sort_by=None, order=None, output_keys=['username', 'activity_type', 'repository', 'date'], aggregation=None)] time_range=TimeRange(start=None, end=None, label='Current') limit=None group_by=None intent='Find current tasks and activities for Abhiyan Timilsina across JIRA and GitHub.' context={'user_matching': \"Multiple variations of Abhiyan's name are used across JIRA and GitHub. Partial name searches are performed to increase the chance of finding the correct user.\", 'project_mapping': \"Projects will be identified from JIRA issues and GitHub repositories based on the context of Abhiyan's activities.\", 'notes': \"The 'current' time range is implicitly defined as the last 7 days for GitHub activities. For JIRA, the 'Open' status filter is used to indicate current tasks.\"} error_type=None error_message=None\n"
     ]
    }
   ],
   "source": [
    "from langchain_google_genai import ChatGoogleGenerativeAI\n",
    "from app.core.config import settings\n",
    "from app.core.services.intent_parser import AgentIntentParser\n",
    "\n",
    "\n",
    "# Initialize Gemini\n",
    "llm = ChatGoogleGenerativeAI(\n",
    "    model=\"gemini-1.5-flash\",\n",
    "    temperature=0,\n",
    "    google_api_key=settings.google_api_key\n",
    ")\n",
    "\n",
    "# Initialize parser\n",
    "parser = AgentIntentParser(llm)\n",
    "\n",
    "# Test with a relevant query\n",
    "query = \"What is abhiyan working on currently?\"\n",
    "\n",
    "intent = await parser.parse_intent(query, [])\n",
    "print(intent)"
   ]
  },
  {
   "cell_type": "code",
   "execution_count": 3,
   "id": "34adac58-08c4-4b19-9137-a53f7cda761f",
   "metadata": {},
   "outputs": [
    {
     "data": {
      "text/plain": [
       "[OperationStep(tool='search_jira_users', action=\"Search for JIRA users matching 'Abhiyan Timilsina'\", filters={'query': 'abhiyan timilsina', 'max_results': 10}, sort_by=None, order=None, output_keys=['jira_user_key', 'jira_username', 'jira_display_name'], aggregation=None),\n",
       " OperationStep(tool='search_jira_issues', action='Find JIRA issues assigned to Abhiyan', filters={'assignee': 'jira_username', 'status': 'Open', 'max_results': 10}, sort_by=None, order=None, output_keys=['issue_key', 'summary', 'status', 'project_key'], aggregation=None),\n",
       " OperationStep(tool='get_github_recent_activities', action=\"Get Abhiyan's recent GitHub activities\", filters={'usernames': ['abhiyan-timilsina', 'abhiyantimilsina', 'atimilsina', 'abhiyan'], 'days': 7, 'include_commits': True, 'include_prs': True}, sort_by=None, order=None, output_keys=['username', 'activity_type', 'repository', 'date'], aggregation=None)]"
      ]
     },
     "execution_count": 3,
     "metadata": {},
     "output_type": "execute_result"
    }
   ],
   "source": [
    "intent.operations"
   ]
  },
  {
   "cell_type": "code",
   "execution_count": 7,
   "id": "430ccb57-2c18-465d-b97e-960621e37de1",
   "metadata": {},
   "outputs": [
    {
     "ename": "AttributeError",
     "evalue": "'list' object has no attribute 'get'",
     "output_type": "error",
     "traceback": [
      "\u001b[31m---------------------------------------------------------------------------\u001b[39m",
      "\u001b[31mAttributeError\u001b[39m                            Traceback (most recent call last)",
      "\u001b[36mCell\u001b[39m\u001b[36m \u001b[39m\u001b[32mIn[7]\u001b[39m\u001b[32m, line 8\u001b[39m\n\u001b[32m      5\u001b[39m context = client.context \u001b[38;5;129;01mor\u001b[39;00m {}\n\u001b[32m      7\u001b[39m \u001b[38;5;66;03m# Safely extract repository names if available\u001b[39;00m\n\u001b[32m----> \u001b[39m\u001b[32m8\u001b[39m repos = \u001b[43mcontext\u001b[49m\u001b[43m.\u001b[49m\u001b[43mget\u001b[49m(\u001b[33m\"\u001b[39m\u001b[33mrepositories\u001b[39m\u001b[33m\"\u001b[39m, [])\n\u001b[32m      9\u001b[39m names = \u001b[33m\"\u001b[39m\u001b[33m,\u001b[39m\u001b[33m\"\u001b[39m.join(repo.get(\u001b[33m\"\u001b[39m\u001b[33mname\u001b[39m\u001b[33m\"\u001b[39m, \u001b[33m\"\u001b[39m\u001b[33m\"\u001b[39m) \u001b[38;5;28;01mfor\u001b[39;00m repo \u001b[38;5;129;01min\u001b[39;00m repos \u001b[38;5;28;01mif\u001b[39;00m repo.get(\u001b[33m\"\u001b[39m\u001b[33mname\u001b[39m\u001b[33m\"\u001b[39m))\n\u001b[32m     11\u001b[39m \u001b[38;5;66;03m# Safely extract contributors if available\u001b[39;00m\n",
      "\u001b[31mAttributeError\u001b[39m: 'list' object has no attribute 'get'"
     ]
    }
   ],
   "source": [
    "from app.clients.github_client import GitHubClient\n",
    "from app.clients.jira_client import JiraClient\n",
    "\n",
    "client = GitHubClient()\n",
    "context = client.context or {}\n",
    "\n",
    "# Safely extract repository names if available\n",
    "repos = context.get(\"repositories\", [])\n",
    "names = \",\".join(repo.get(\"name\", \"\") for repo in repos if repo.get(\"name\"))\n",
    "\n",
    "# Safely extract contributors if available\n",
    "contributors = context.get(\"contributors\", [])\n",
    "members = \",\".join(contributor.get(\"name\", \"\") for contributor in contributors if contributor.get(\"name\"))\n",
    "\n",
    "context_str = f\"\"\"\n",
    "Repository Names: {names}\n",
    "Members: {members}\n",
    "\"\"\"\n",
    "print(context_str)\n",
    "\n",
    "\n",
    "client = GitHubClient()\n",
    "context = client.context or {}\n",
    "\n",
    "# Safely extract repository names if available\n",
    "repos = context.get(\"repositories\", [])\n",
    "names = \",\".join(repo.get(\"name\", \"\") for repo in repos if repo.get(\"name\"))\n",
    "\n",
    "# Safely extract contributors if available\n",
    "contributors = context.get(\"contributors\", [])\n",
    "members = \",\".join(contributor.get(\"name\", \"\") for contributor in contributors if contributor.get(\"name\"))\n",
    "\n",
    "context_str = f\"\"\"\n",
    "Repository Names: {names}\n",
    "Members: {members}\n",
    "\"\"\"\n",
    "print(context_str)\n",
    "\n",
    "client = GitHubClient()\n",
    "context = client.context or {}\n",
    "\n"
   ]
  },
  {
   "cell_type": "code",
   "execution_count": 10,
   "id": "3411087a-6a81-48b2-b151-0ccc0c1f6163",
   "metadata": {},
   "outputs": [
    {
     "name": "stdout",
     "output_type": "stream",
     "text": [
      "\n",
      "Repository Names: abhiyan52/team-activity-monitors\n",
      "Members: Abhiyan Timilsina\n",
      "\n"
     ]
    }
   ],
   "source": [
    "from app.clients.github_client import GitHubClient\n",
    "from app.clients.jira_client import JiraClient\n",
    "\n",
    "client = GitHubClient()\n",
    "context = client.context or []\n",
    "\n",
    "# Get all repository names\n",
    "names = \",\".join(repo['full_name'] for repo in context if 'name' in repo)\n",
    "\n",
    "# Get all contributors across repos\n",
    "members = \",\".join(\n",
    "    contributor['name']\n",
    "    for repo in context\n",
    "    for contributor in repo.get('contributors', [])\n",
    "    if 'name' in contributor\n",
    ")\n",
    "\n",
    "context_str = f\"\"\"\n",
    "Repository Names: {names}\n",
    "Members: {members}\n",
    "\"\"\"\n",
    "print(context_str)\n"
   ]
  },
  {
   "cell_type": "code",
   "execution_count": 11,
   "id": "9a36f0ef-e54b-49d5-9acb-f88ea4e4c0a6",
   "metadata": {},
   "outputs": [
    {
     "data": {
      "text/plain": [
       "{'project_information': [{'key': 'LEARNJIRA',\n",
       "   'name': '(Learn) Jira Premium benefits in 5 min 👋',\n",
       "   'id': '10001',\n",
       "   'lead': None,\n",
       "   'users': [{'accountId': '5cac3c474353071e5657aa89',\n",
       "     'displayName': 'abhiyan timilsina',\n",
       "     'emailAddress': 'abhiyantimilsina@gmail.com',\n",
       "     'active': True}]},\n",
       "  {'key': 'SCRUM',\n",
       "   'name': 'Team Activity Monitor',\n",
       "   'id': '10000',\n",
       "   'lead': None,\n",
       "   'users': [{'accountId': '5cac3c474353071e5657aa89',\n",
       "     'displayName': 'abhiyan timilsina',\n",
       "     'emailAddress': 'abhiyantimilsina@gmail.com',\n",
       "     'active': True}]}]}"
      ]
     },
     "execution_count": 11,
     "metadata": {},
     "output_type": "execute_result"
    }
   ],
   "source": [
    "jira_client = JiraClient()\n",
    "context = jira_client.context\n",
    "project_names = [kcontext['project_information']]\n"
   ]
  },
  {
   "cell_type": "code",
   "execution_count": 2,
   "id": "b12ca521-6496-42e7-98eb-d0ac17043192",
   "metadata": {},
   "outputs": [],
   "source": [
    "from app.core.config import settings\n",
    "from langchain_google_genai import ChatGoogleGenerativeAI\n",
    "from app.core.services.intent_parser import AgentIntentParser\n",
    "\n",
    "llm =  ChatGoogleGenerativeAI(\n",
    "    model=\"gemini-2.5-flash\",\n",
    "    google_api_key=settings.google_api_key,\n",
    "    temperature=0\n",
    ")\n",
    "intent_parser = AgentIntentParser(llm)\n",
    "\n",
    "# chat_history = []\n",
    "# query = \"What is abhiyan working on this month?\"\n",
    "\n",
    "# result = await intent_parser.parse_intent(query, chat_history)\n",
    "# result"
   ]
  },
  {
   "cell_type": "code",
   "execution_count": 3,
   "id": "07e40d85-ccfb-4517-90c0-54332f1f83be",
   "metadata": {},
   "outputs": [
    {
     "data": {
      "text/plain": [
       "'```json\\n{\\n  \"is_relevant\": true,\\n  \"intent\": \"Find recent activities for Abhiyan\",\\n  \"operations\": [\\n    {\\n      \"tool\": \"get_recent_activity\",\\n      \"action\": \"Get activity for Abhiyan across JIRA and GitHub\",\\n      \"filters\": {\\n        \"team_members\": [\\n          \"abhiyan timilsina\",\\n          \"abhiyan52\"\\n        ],\\n        \"days\": 30\\n      },\\n      \"output_keys\": [\\n        \"jira_activity\",\\n        \"github_activity\"\\n      ]\\n    }\\n  ],\\n  \"members\": [\\n    \"abhiyan timilsina\",\\n    \"abhiyan52\"\\n  ],\\n  \"projects\": [],\\n  \"repositories\": [],\\n  \"time_range\": {\\n    \"start\": null,\\n    \"end\": null,\\n    \"label\": \"this month\"\\n  },\\n  \"context\": {\\n    \"user_matching\": \"abhiyan -> abhiyan timilsina, abhiyan52\",\\n    \"notes\": \"Cross-platform activity search for the current month\"\\n  },\\n  \"error\": null\\n}\\n```'"
      ]
     },
     "execution_count": 3,
     "metadata": {},
     "output_type": "execute_result"
    }
   ],
   "source": [
    "chat_history = []\n",
    "query = \"What is abhiyan working on this month?\"\n",
    "\n",
    "result = await intent_parser.parse_intent(query, chat_history)\n",
    "result"
   ]
  },
  {
   "cell_type": "code",
   "execution_count": 4,
   "id": "4e1904a5-25e3-4187-a8d2-de8382c28475",
   "metadata": {},
   "outputs": [
    {
     "data": {
      "text/plain": [
       "'```json\\n{\\n  \"is_relevant\": true,\\n  \"intent\": \"Get GitHub commits by Abhiyan for today\",\\n  \"operations\": [\\n    {\\n      \"tool\": \"get_github_commits\",\\n      \"action\": \"Retrieve commits by abhiyan52\",\\n      \"filters\": {\\n        \"author\": \"abhiyan52\",\\n        \"since_days\": 1\\n      },\\n      \"output_keys\": [\\n        \"commits\"\\n      ]\\n    }\\n  ],\\n  \"members\": [\\n    \"abhiyan52\"\\n  ],\\n  \"projects\": [],\\n  \"repositories\": [],\\n  \"time_range\": {\\n    \"start\": null,\\n    \"end\": null,\\n    \"label\": \"today\"\\n  },\\n  \"context\": {\\n    \"user_matching\": \"Abhiyan -> abhiyan52\",\\n    \"notes\": \"GitHub-specific query for commits\"\\n  },\\n  \"error\": null\\n}\\n```'"
      ]
     },
     "execution_count": 4,
     "metadata": {},
     "output_type": "execute_result"
    }
   ],
   "source": [
    "chat_history = []\n",
    "query = \"What all commits have been done today by Abhiyan?\"\n",
    "\n",
    "result = await intent_parser.parse_intent(query, chat_history)\n",
    "result"
   ]
  },
  {
   "cell_type": "code",
   "execution_count": null,
   "id": "bea99752-733c-4f70-b628-a6e582f7e60d",
   "metadata": {},
   "outputs": [],
   "source": []
  }
 ],
 "metadata": {
  "kernelspec": {
   "display_name": "Python 3 (ipykernel)",
   "language": "python",
   "name": "python3"
  },
  "language_info": {
   "codemirror_mode": {
    "name": "ipython",
    "version": 3
   },
   "file_extension": ".py",
   "mimetype": "text/x-python",
   "name": "python",
   "nbconvert_exporter": "python",
   "pygments_lexer": "ipython3",
   "version": "3.13.3"
  }
 },
 "nbformat": 4,
 "nbformat_minor": 5
}
