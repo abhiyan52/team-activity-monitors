{
 "cells": [
  {
   "cell_type": "code",
   "execution_count": 2,
   "id": "9696eb6e-3ac9-4d42-a2f5-490f62dc1177",
   "metadata": {},
   "outputs": [
    {
     "name": "stderr",
     "output_type": "stream",
     "text": [
      "/var/folders/2v/xmswndwd6qzf1nwc57ht76xr0000gp/T/ipykernel_99577/3724696385.py:4: DeprecationWarning: Argument login_or_token is deprecated, please use auth=github.Auth.Token(...) instead\n",
      "  g = Github(settings.github_token)\n"
     ]
    }
   ],
   "source": [
    "from github import Github\n",
    "from app.core.config import settings\n",
    "\n",
    "g = Github(settings.github_token)\n"
   ]
  },
  {
   "cell_type": "code",
   "execution_count": 8,
   "id": "ee603014-fd6f-414b-9065-a0c4c5e1e73e",
   "metadata": {},
   "outputs": [
    {
     "name": "stdout",
     "output_type": "stream",
     "text": [
      "abhiyanhaze None https://github.com/abhiyanhaze\n"
     ]
    }
   ],
   "source": [
    "user = g.get_user(\"abhiyanhaze\")\n",
    "print(user.login, user.name, user.html_url)\n"
   ]
  },
  {
   "cell_type": "code",
   "execution_count": 7,
   "id": "d4f9b852-3cfc-4b72-a298-d953bf8e3924",
   "metadata": {},
   "outputs": [
    {
     "name": "stdout",
     "output_type": "stream",
     "text": [
      "markdown-documentation-template abhiyanhaze/markdown-documentation-template\n",
      "temp abhiyanhaze/temp\n"
     ]
    }
   ],
   "source": [
    "for repo in user.get_repos():\n",
    "    print(repo.name, repo.full_name)\n"
   ]
  },
  {
   "cell_type": "code",
   "execution_count": 9,
   "id": "98c91e0e-7c56-429c-b84c-db27b90cd331",
   "metadata": {},
   "outputs": [],
   "source": [
    "for org in g.get_user().get_orgs():\n",
    "    print(org.login, org.name)"
   ]
  },
  {
   "cell_type": "code",
   "execution_count": 12,
   "id": "de6057a5-e2c1-4d09-a31e-98ae31209a27",
   "metadata": {},
   "outputs": [],
   "source": [
    "user = g.get_user()\n",
    "for org in user.get_orgs():\n",
    "    print(org.login, org.name)"
   ]
  },
  {
   "cell_type": "code",
   "execution_count": 15,
   "id": "b903e29f-db85-4592-8226-080fa25825dc",
   "metadata": {},
   "outputs": [],
   "source": [
    "user = g.get_user()\n",
    "for org in user.get_orgs():\n",
    "    for repo in org.get_repos():\n",
    "        print(repo.full_name)\n"
   ]
  },
  {
   "cell_type": "code",
   "execution_count": 16,
   "id": "48100832-c2be-467f-a428-c7928859e19b",
   "metadata": {},
   "outputs": [
    {
     "data": {
      "text/plain": [
       "<github.PaginatedList.PaginatedList at 0x114e5bd40>"
      ]
     },
     "execution_count": 16,
     "metadata": {},
     "output_type": "execute_result"
    }
   ],
   "source": []
  },
  {
   "cell_type": "code",
   "execution_count": 19,
   "id": "9ff729a4-0668-495c-ab84-96fa3273481c",
   "metadata": {},
   "outputs": [
    {
     "name": "stderr",
     "output_type": "stream",
     "text": [
      "Following Github server redirection from /repos/team-activity-monitor/team-activity-monitor to /repositories/1056053612\n"
     ]
    },
    {
     "name": "stdout",
     "output_type": "stream",
     "text": [
      "\n",
      "--- All Pull Requests ---\n",
      "\n",
      "--- Recent Commits ---\n",
      "ea5b86f9ed4487e0a0ba432689bc866c98458d52: abhiyanhaze | Initial commit of the Team Activity Monitor application, including backend and frontend components. The backend is built with FastAPI and integrates with JIRA and GitHub for team activity tracking. The frontend is developed using React, featuring a chat interface for natural language queries and real-time system status monitoring. Added configuration files, environment setup, and comprehensive README documentation for both backend and frontend. | 2025-09-13 07:26:16+00:00\n"
     ]
    }
   ],
   "source": [
    "from github import Github\n",
    "\n",
    "\n",
    "repo = g.get_repo(\"team-activity-monitor/team-activity-monitor\")\n",
    "\n",
    "print(\"\\n--- All Pull Requests ---\")\n",
    "for pr in repo.get_pulls(state='all', sort='created', direction='desc'):\n",
    "    print(f\"PR #{pr.number}: {pr.title} | By: {pr.user.login} | State: {pr.state} | {pr.html_url}\")\n",
    "\n",
    "print(\"\\n--- Recent Commits ---\")\n",
    "for commit in repo.get_commits()[:20]:\n",
    "    c = commit.commit\n",
    "    print(f\"{commit.sha}: {c.author.name} | {c.message.strip()} | {c.author.date}\")\n"
   ]
  },
  {
   "cell_type": "code",
   "execution_count": null,
   "id": "3d7e0901-15b7-47b9-8d07-c92089bb20f9",
   "metadata": {},
   "outputs": [],
   "source": []
  }
 ],
 "metadata": {
  "kernelspec": {
   "display_name": "Python 3 (ipykernel)",
   "language": "python",
   "name": "python3"
  },
  "language_info": {
   "codemirror_mode": {
    "name": "ipython",
    "version": 3
   },
   "file_extension": ".py",
   "mimetype": "text/x-python",
   "name": "python",
   "nbconvert_exporter": "python",
   "pygments_lexer": "ipython3",
   "version": "3.13.3"
  }
 },
 "nbformat": 4,
 "nbformat_minor": 5
}
