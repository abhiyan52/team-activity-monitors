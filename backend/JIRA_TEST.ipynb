{
 "cells": [
  {
   "cell_type": "code",
   "execution_count": 2,
   "id": "483a213b-d3db-49e9-8fc2-56cce39a5dd1",
   "metadata": {},
   "outputs": [
    {
     "name": "stdout",
     "output_type": "stream",
     "text": [
      "Authenticated as: 5cac3c474353071e5657aa89\n"
     ]
    }
   ],
   "source": [
    "from jira import JIRA\n",
    "from app.core.config import settings\n",
    "\n",
    "\n",
    "\n",
    "# Replace these with your config or .env\n",
    "JIRA_SERVER = settings.jira_server_url\n",
    "JIRA_EMAIL = settings.jira_email\n",
    "JIRA_API_TOKEN = settings.jira_api_token\n",
    "\n",
    "# Initialize the client\n",
    "jira = JIRA(\n",
    "    server=JIRA_SERVER,\n",
    "    basic_auth=(JIRA_EMAIL, JIRA_API_TOKEN)\n",
    ")\n",
    "\n",
    "# Test connection (fetch your own info)\n",
    "me = jira.current_user()\n",
    "print(\"Authenticated as:\", me)\n"
   ]
  },
  {
   "cell_type": "code",
   "execution_count": 14,
   "id": "24a04b85-c856-453c-8610-fd8325995f80",
   "metadata": {},
   "outputs": [
    {
     "name": "stdout",
     "output_type": "stream",
     "text": [
      "SCRUM-15: Code cleanup and final testing (Status: To Do)\n",
      "SCRUM-14: Documentation and demo preparation (Status: To Do)\n",
      "SCRUM-13: End-to-end testing with real data (Status: To Do)\n",
      "SCRUM-12: Build simple user interface (web or CLI) (Status: To Do)\n",
      "SCRUM-11: Handle basic error scenarios (Status: To Do)\n",
      "SCRUM-10: Combine JIRA and GitHub data into coherent answers (Status: To Do)\n",
      "SCRUM-9: Integrate AI API for response generation OR create response templates (Status: To Do)\n",
      "SCRUM-8: Implement basic query parsing (extract user names from questions) (Status: To Do)\n",
      "SCRUM-7: Test both API integrations independently (Status: To Do)\n",
      "SCRUM-6: Create simple data processing functions (Status: To Do)\n"
     ]
    }
   ],
   "source": [
    "# Search for issues assigned to a user\n",
    "assignee = \"abhiyan timilsina\"  # JIRA AccountId can also be used for assignee\n",
    "issues = jira.search_issues(f'assignee=\"{assignee}\" AND resolution=Unresolved', maxResults=10)\n",
    "\n",
    "for issue in issues:\n",
    "    print(\n",
    "        f\"{issue.key}: {issue.fields.summary} (Status: {issue.fields.status.name})\"\n",
    "    )\n"
   ]
  },
  {
   "cell_type": "code",
   "execution_count": 13,
   "id": "d159ac4c-8e27-42c7-a775-357c408415cd",
   "metadata": {},
   "outputs": [
    {
     "name": "stdout",
     "output_type": "stream",
     "text": [
      "LEARNJIRA: (Learn) Jira Premium benefits in 5 min 👋\n",
      "SCRUM: Team Activity Monitor\n",
      "5cac3c474353071e5657aa89 abhiyan timilsina\n"
     ]
    }
   ],
   "source": [
    "\n",
    "# List all projects\n",
    "projects = jira.projects()\n",
    "for proj in projects:\n",
    "    print(f\"{proj.key}: {proj.name}\")\n",
    "\n",
    "# GET ASSIGNABLE USERS\n",
    "users = jira.search_assignable_users_for_projects(username=\"\",projectKeys=\"SCRUM\", maxResults=50)\n",
    "\n",
    "for user in users:\n",
    "    print(user.accountId, user.displayName)\n"
   ]
  },
  {
   "cell_type": "code",
   "execution_count": null,
   "id": "af5fda5b-de36-4f89-b457-d16e39e7d0ba",
   "metadata": {},
   "outputs": [],
   "source": []
  },
  {
   "cell_type": "code",
   "execution_count": null,
   "id": "ccc05965-0ee5-4380-a078-40182b4070cd",
   "metadata": {},
   "outputs": [],
   "source": []
  }
 ],
 "metadata": {
  "kernelspec": {
   "display_name": "Python 3 (ipykernel)",
   "language": "python",
   "name": "python3"
  },
  "language_info": {
   "codemirror_mode": {
    "name": "ipython",
    "version": 3
   },
   "file_extension": ".py",
   "mimetype": "text/x-python",
   "name": "python",
   "nbconvert_exporter": "python",
   "pygments_lexer": "ipython3",
   "version": "3.13.3"
  }
 },
 "nbformat": 4,
 "nbformat_minor": 5
}
